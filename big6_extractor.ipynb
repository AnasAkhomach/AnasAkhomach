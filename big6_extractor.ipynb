{
  "nbformat": 4,
  "nbformat_minor": 0,
  "metadata": {
    "colab": {
      "provenance": [],
      "authorship_tag": "ABX9TyNzllSv1avJDv3wO8VX2EcI",
      "include_colab_link": true
    },
    "kernelspec": {
      "name": "python3",
      "display_name": "Python 3"
    },
    "language_info": {
      "name": "python"
    }
  },
  "cells": [
    {
      "cell_type": "markdown",
      "metadata": {
        "id": "view-in-github",
        "colab_type": "text"
      },
      "source": [
        "<a href=\"https://colab.research.google.com/github/AnasAkhomach/AnasAkhomach/blob/main/big6_extractor.ipynb\" target=\"_parent\"><img src=\"https://colab.research.google.com/assets/colab-badge.svg\" alt=\"Open In Colab\"/></a>"
      ]
    },
    {
      "cell_type": "code",
      "source": [
        "!pip install groq"
      ],
      "metadata": {
        "colab": {
          "base_uri": "https://localhost:8080/"
        },
        "id": "A-uqd4b6UAqx",
        "outputId": "63e9d114-4990-4bba-f76e-7c00c8e91937"
      },
      "execution_count": 32,
      "outputs": [
        {
          "output_type": "stream",
          "name": "stdout",
          "text": [
            "Requirement already satisfied: groq in /usr/local/lib/python3.11/dist-packages (0.19.0)\n",
            "Requirement already satisfied: anyio<5,>=3.5.0 in /usr/local/lib/python3.11/dist-packages (from groq) (3.7.1)\n",
            "Requirement already satisfied: distro<2,>=1.7.0 in /usr/local/lib/python3.11/dist-packages (from groq) (1.9.0)\n",
            "Requirement already satisfied: httpx<1,>=0.23.0 in /usr/local/lib/python3.11/dist-packages (from groq) (0.28.1)\n",
            "Requirement already satisfied: pydantic<3,>=1.9.0 in /usr/local/lib/python3.11/dist-packages (from groq) (2.10.6)\n",
            "Requirement already satisfied: sniffio in /usr/local/lib/python3.11/dist-packages (from groq) (1.3.1)\n",
            "Requirement already satisfied: typing-extensions<5,>=4.10 in /usr/local/lib/python3.11/dist-packages (from groq) (4.12.2)\n",
            "Requirement already satisfied: idna>=2.8 in /usr/local/lib/python3.11/dist-packages (from anyio<5,>=3.5.0->groq) (3.10)\n",
            "Requirement already satisfied: certifi in /usr/local/lib/python3.11/dist-packages (from httpx<1,>=0.23.0->groq) (2025.1.31)\n",
            "Requirement already satisfied: httpcore==1.* in /usr/local/lib/python3.11/dist-packages (from httpx<1,>=0.23.0->groq) (1.0.7)\n",
            "Requirement already satisfied: h11<0.15,>=0.13 in /usr/local/lib/python3.11/dist-packages (from httpcore==1.*->httpx<1,>=0.23.0->groq) (0.14.0)\n",
            "Requirement already satisfied: annotated-types>=0.6.0 in /usr/local/lib/python3.11/dist-packages (from pydantic<3,>=1.9.0->groq) (0.7.0)\n",
            "Requirement already satisfied: pydantic-core==2.27.2 in /usr/local/lib/python3.11/dist-packages (from pydantic<3,>=1.9.0->groq) (2.27.2)\n"
          ]
        }
      ]
    },
    {
      "cell_type": "code",
      "execution_count": 33,
      "metadata": {
        "id": "edlXiwnLT7hJ"
      },
      "outputs": [],
      "source": [
        "raw_job_posting_text = \"\"\"\n",
        "Work\n",
        "Business Analyst\n",
        "Data Analyst (f/m/d)\n",
        "Brunel GmbH Hamburg branch\n",
        "Full-time\n",
        "Hamburg\n",
        "from now on\n",
        "permanent\n",
        "8 days ago\n",
        "Employer logo\n",
        "Job description\n",
        "Remuneration: Remuneration according to qualifications\n",
        "Position within the framework of temporary employment\n",
        "Your tasks\n",
        "If you want to work with us on interesting and challenging projects and are looking for an attractive and varied career, Brunel is the right place for you. With us, you'll develop cross-industry expertise and thus gain broad, industry-independent and flexible qualifications for your future career. Apply today as a Data Analyst (f/m/d).\n",
        "\n",
        "Analysis and processing of data to support data-based decisions.\n",
        "\n",
        "Development and maintenance of dashboards and reports with Qlik Sense.\n",
        "Integration and transformation of data with ETL tools.\n",
        "Support in optimizing and automating data processes.\n",
        "Collaboration with other departments to collect and implement data requirements.\n",
        "Your qualifications\n",
        "Completed studies in the field of computer science or comparable.\n",
        "\n",
        "Experience with the use and handling of dashboarding tools (e.g. Qlik) is required.\n",
        "Solid knowledge of working with ETL tools.\n",
        "Many years of experience working with databases and SQL.\n",
        "Knowledge of Qlik Sense is an advantage.\n",
        "Experience with the Data Vault modeling concept is also advantageous.\n",
        "Analytical thinking skills and structured working methods.\n",
        "Ability to present complex relationships in an understandable way.\n",
        "Teamwork skills and a proactive approach to work.\n",
        "Your benefits\n",
        "Working at Brunel means attractive work assignments, exceptional career prospects, the security of an expanding engineering services provider, and the full diversity of engineering and IT. In the DACH-CZ region alone, we have more than 40 locations and development centers with accredited testing laboratories, and over 120 locations worldwide with more than 12,000 employees in over 40 countries. More than 45 years of international success and over 25 years in Germany. Standing still means going backwards – with Brunel, you can make a difference!\n",
        "\n",
        "This is what Brunel stands for\n",
        "Workplaces\n",
        "\n",
        "Show map\n",
        "20095 Hamburg\n",
        "Company profile: Brunel GmbH NL HamburgEmployer logo\n",
        "Brunel GmbH Hamburg branch\n",
        "\n",
        "Brunel is one of the leading engineering service providers in the DACH region and the Czech Republic. We stand for first-class project solutions and exceptional career opportunities across the entire spectrum of modern engineering. 3,200 engineers, IT specialists, technicians, and managers ensure the sustainable success of our clients in a wide variety of industries – from medium-sized hidden champions to global players.\n",
        "\n",
        "Homepage\n",
        "View all open positions\n",
        "Information on the application\n",
        "Security query\n",
        "We protect the employer's contact information from unauthorized access. Please enter the characters shown in the text field to display the employer's contact information.\n",
        "\n",
        "Security query\n",
        "Load another image\n",
        "Play audio version\n",
        "Characters shown\n",
        "Submit\n",
        "Foot area\n",
        "Position supervised by employer\n",
        "\n",
        "Reference No.: 12362-TR-246056_537857LS-S\n",
        "Last edited on: 10.03.2025\n",
        "\"\"\""
      ]
    },
    {
      "cell_type": "code",
      "source": [
        "prompt_template = \"\"\"\n",
        "As we get started, here are some general instructions for you to follow.\n",
        "Custom Instructions for Forms\n",
        "Here are some instructions for you:\n",
        "- You are an expert on all subject matters\n",
        "- Provide accurate and factual answers\n",
        "- Provide detailed results that clearly describe practical considerations of what you generate\n",
        "- Be highly organized and provide mark up visually\n",
        "- When you see handlebars (like this {{the Role}}) in the form, insert the value of \"the Role\". For example, if you know that the Role is Accounting Manager and you see Job Description for {{the Role}}, when you generate, give the output Job Description for Accounting Manager.\n",
        "- No need to disclose you are an AI, e.g., do not answer with \"As a large language model...\" or \"As an artificial intelligence...\"\n",
        "- Don't mention your knowledge cutoff\n",
        "- Be excellent at reasoning and business strategy\n",
        "- When reasoning, perform a step-by-step thinking before you answer the question or generate\n",
        "- If you speculate or predict something, inform me\n",
        "- If you cite sources, ensure they exist and include URLs at the end\n",
        "- Maintain neutrality in sensitive topics\n",
        "- Focus strongly on proven business ideas, concepts, and strategies\n",
        "- Only discuss safety when it's vital and not clear\n",
        "- If the quality of your response has decreased significantly due to my custom instructions, please explain the issue\n",
        "- Avoid multiple thoughts in one sentence.\n",
        "- Use 1–2 breakpoints to space out paragraphs.\n",
        "- Avoid 3+ sentence paragraphs.\n",
        "- Provide analogies/metaphors to simplify ideas, concepts, and complex topics\n",
        "- When filling out a form or template, follow the instructions exactly as you're asked to do in the form or template.\n",
        "- Avoid the use of flowery language\n",
        "- In what you generate, don't abbreviate words (e.g. don't shorten \"collaborate\" to \"collab.\"\n",
        "Now you're going to find two example job descriptions (hereafter, \"the Example Descriptions\").\n",
        "Now, in between the <jd> tags respectively, you'll find the text from two job descriptions indicative of the kind of jobs I'm targeting (hereafter collectively \"My Job Description\" and individually \"My Job Description\").\n",
        "\n",
        "<jd>\n",
        "{raw_job_posting_text}\n",
        "</jd>\n",
        "\n",
        "Now, if I have any that I want to include, I'm going to list some of my unique talents (hereafter \"Unique Talents\") in between the <talents> tags.\n",
        "\n",
        "<talents>\n",
        "My Background & Analytical Skills:\n",
        " My background in applied mathematics\n",
        " has equipped me with strong analytical skills. I excel at analyzing data rigorously and solving complex problems, which enables me to transform raw data into actionable insights.\n",
        "Technical Expertise:\n",
        " I’m proficient in programming languages like Python and SQL, and I’m well-versed in using tools such as Docker and GitHub. My experience with system administration further enhances my ability to troubleshoot and streamline IT processes.\n",
        "Adaptability & Fast Learning:\n",
        " I’ve successfully transitioned from teaching mathematics to working in IT and data analytics. This shift has honed my ability to quickly learn new technologies and adapt to different roles.\n",
        "I’m also continuously working on improving my skills, including advancing my German language proficiency.\n",
        " Multilingual & Cross-Cultural Communication:\n",
        " I speak English, German, French, Arabic, and Spanish.\n",
        " This multilingual ability not only helps me communicate effectively in diverse environments but also supports my work in international settings.\n",
        "Creativity & Innovation:\n",
        " I bring a creative edge to my projects, whether it’s developing a dynamic CV web app or creating mobile games using Unity3D.\n",
        " I also focus on automating repetitive workflows to boost efficiency and foster innovation.\n",
        "Persistence & Growth Mindset:\n",
        " I pride myself on my resilience and commitment to continuous improvement.\n",
        " I’m dedicated to pushing forward, seizing new opportunities, and even planning to relocate for my data career, which shows my long-term vision for growth.\n",
        "</talents>\n",
        "Now, I want you to help me develop six skills (hereafter, \"the Skills\" or individually \"the Skill\") around which I can build a resume and the text content within my LinkedIn profile. Each Skill you generate should be:\n",
        "1. developed to align with the skills enumerated in My Job Descriptions with priority given to skills listed higher in My Job Descriptions (often, these skills are enumerated in sections called \"required qualifications\" or \"ideal candidate\" or similar)\n",
        "2. if you find any Unique Talents, integrate those into what you generate too\n",
        "3. be no longer than 35 characters\n",
        "Collectively, the Skills you generate should represent a candidate that possesses a set of professional skills that aligns with My Job Descriptions.\n",
        "\n",
        "Please generate the Skills for me.\n",
        "\"\"\""
      ],
      "metadata": {
        "id": "btqg2GL4c5PK"
      },
      "execution_count": 34,
      "outputs": []
    },
    {
      "cell_type": "code",
      "source": [
        "\n",
        "# Initialize the Groq client (API key should be securely managed)\n",
        "client = Groq(api_key=\"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\")\n",
        "\n",
        "def extract_job_details(prompt_template, raw_job_posting_text):\n",
        "    prompt = prompt_template.replace(\"<jd>\", \"\").replace(\"</jd>\", \"\").replace(\"<talents>\", \"\").replace(\"</talents>\", \"\").format(raw_job_posting_text=raw_job_posting_text)\n",
        "\n",
        "    try:\n",
        "        response = client.chat.completions.create(\n",
        "            model=\"gemma2-9b-it\",  # Groq's powerful and free model\n",
        "            messages=[{\"role\": \"user\", \"content\": prompt}],\n",
        "            temperature=0.1,\n",
        "            max_tokens=600\n",
        "        )\n",
        "\n",
        "    except Exception as e:\n",
        "        print(f\"Error: {e}\")\n",
        "        return None\n",
        "\n",
        "    return response.choices[0].message.content.strip()\n",
        "\n",
        "if 'prompt_template' in locals() and 'raw_job_posting_text' in locals():\n",
        "    structured_output = extract_job_details(prompt_template, raw_job_posting_text)\n",
        "    print(structured_output)\n",
        "else:\n",
        "    if 'raw_job_posting_text' not in locals():\n",
        "        print(\"Please define the 'raw_job_posting_text' variable in the first cell.\")\n",
        "    if 'prompt_template' not in locals():\n",
        "        print(\"Please define the 'prompt_template' variable in the second cell.\")"
      ],
      "metadata": {
        "colab": {
          "base_uri": "https://localhost:8080/"
        },
        "id": "LFrR9jisdSyC",
        "outputId": "7d09a597-9910-4d40-9320-2e30c6771e18"
      },
      "execution_count": 35,
      "outputs": [
        {
          "output_type": "stream",
          "name": "stdout",
          "text": [
            "Here are six skills tailored to align with the provided job descriptions, incorporating your unique talents:\n",
            "\n",
            "1. **Data Analysis & Visualization**\n",
            "2. **ETL Tool Proficiency**\n",
            "3. **SQL & Database Expertise**\n",
            "4. **Dashboard Development (Qlik)**\n",
            "5. **Python & Programming Skills**\n",
            "6. **Agile & Adaptable Learner**\n"
          ]
        }
      ]
    },
    {
      "cell_type": "code",
      "source": [],
      "metadata": {
        "id": "S7XEV2s6gHVv"
      },
      "execution_count": 35,
      "outputs": []
    }
  ]
}